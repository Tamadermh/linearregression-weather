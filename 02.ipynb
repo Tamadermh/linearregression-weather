{
 "cells": [
  {
   "cell_type": "code",
   "execution_count": 1,
   "id": "d9fd939b-a4c5-4bab-8f99-c4f77690b9b9",
   "metadata": {},
   "outputs": [],
   "source": [
    "import numpy as np \n",
    "import pandas as pd \n",
    "import matplotlib.pyplot as plt \n",
    "import seaborn as sns \n",
    "import plotly.express as px\n",
    "from sklearn.model_selection import train_test_split\n",
    "from sklearn.linear_model import LinearRegression"
   ]
  },
  {
   "cell_type": "code",
   "execution_count": 2,
   "id": "efa989f1-f9f8-4230-8a64-48b0c97c2b5c",
   "metadata": {},
   "outputs": [],
   "source": [
    "dff=pd.read_csv(\"SummaryofWeather.csv\",low_memory=False)"
   ]
  },
  {
   "cell_type": "code",
   "execution_count": 3,
   "id": "541d979d-c90a-41d8-9388-c408d6e012a9",
   "metadata": {},
   "outputs": [
    {
     "data": {
      "text/html": [
       "<div>\n",
       "<style scoped>\n",
       "    .dataframe tbody tr th:only-of-type {\n",
       "        vertical-align: middle;\n",
       "    }\n",
       "\n",
       "    .dataframe tbody tr th {\n",
       "        vertical-align: top;\n",
       "    }\n",
       "\n",
       "    .dataframe thead th {\n",
       "        text-align: right;\n",
       "    }\n",
       "</style>\n",
       "<table border=\"1\" class=\"dataframe\">\n",
       "  <thead>\n",
       "    <tr style=\"text-align: right;\">\n",
       "      <th></th>\n",
       "      <th>STA</th>\n",
       "      <th>Date</th>\n",
       "      <th>Precip</th>\n",
       "      <th>WindGustSpd</th>\n",
       "      <th>MaxTemp</th>\n",
       "      <th>MinTemp</th>\n",
       "      <th>MeanTemp</th>\n",
       "      <th>Snowfall</th>\n",
       "      <th>PoorWeather</th>\n",
       "      <th>YR</th>\n",
       "      <th>...</th>\n",
       "      <th>FB</th>\n",
       "      <th>FTI</th>\n",
       "      <th>ITH</th>\n",
       "      <th>PGT</th>\n",
       "      <th>TSHDSBRSGF</th>\n",
       "      <th>SD3</th>\n",
       "      <th>RHX</th>\n",
       "      <th>RHN</th>\n",
       "      <th>RVG</th>\n",
       "      <th>WTE</th>\n",
       "    </tr>\n",
       "  </thead>\n",
       "  <tbody>\n",
       "    <tr>\n",
       "      <th>0</th>\n",
       "      <td>10001</td>\n",
       "      <td>1942-7-1</td>\n",
       "      <td>1.016</td>\n",
       "      <td>NaN</td>\n",
       "      <td>25.555556</td>\n",
       "      <td>22.222222</td>\n",
       "      <td>23.888889</td>\n",
       "      <td>0</td>\n",
       "      <td>NaN</td>\n",
       "      <td>42</td>\n",
       "      <td>...</td>\n",
       "      <td>NaN</td>\n",
       "      <td>NaN</td>\n",
       "      <td>NaN</td>\n",
       "      <td>NaN</td>\n",
       "      <td>NaN</td>\n",
       "      <td>NaN</td>\n",
       "      <td>NaN</td>\n",
       "      <td>NaN</td>\n",
       "      <td>NaN</td>\n",
       "      <td>NaN</td>\n",
       "    </tr>\n",
       "    <tr>\n",
       "      <th>1</th>\n",
       "      <td>10001</td>\n",
       "      <td>1942-7-2</td>\n",
       "      <td>0</td>\n",
       "      <td>NaN</td>\n",
       "      <td>28.888889</td>\n",
       "      <td>21.666667</td>\n",
       "      <td>25.555556</td>\n",
       "      <td>0</td>\n",
       "      <td>NaN</td>\n",
       "      <td>42</td>\n",
       "      <td>...</td>\n",
       "      <td>NaN</td>\n",
       "      <td>NaN</td>\n",
       "      <td>NaN</td>\n",
       "      <td>NaN</td>\n",
       "      <td>NaN</td>\n",
       "      <td>NaN</td>\n",
       "      <td>NaN</td>\n",
       "      <td>NaN</td>\n",
       "      <td>NaN</td>\n",
       "      <td>NaN</td>\n",
       "    </tr>\n",
       "    <tr>\n",
       "      <th>2</th>\n",
       "      <td>10001</td>\n",
       "      <td>1942-7-3</td>\n",
       "      <td>2.54</td>\n",
       "      <td>NaN</td>\n",
       "      <td>26.111111</td>\n",
       "      <td>22.222222</td>\n",
       "      <td>24.444444</td>\n",
       "      <td>0</td>\n",
       "      <td>NaN</td>\n",
       "      <td>42</td>\n",
       "      <td>...</td>\n",
       "      <td>NaN</td>\n",
       "      <td>NaN</td>\n",
       "      <td>NaN</td>\n",
       "      <td>NaN</td>\n",
       "      <td>NaN</td>\n",
       "      <td>NaN</td>\n",
       "      <td>NaN</td>\n",
       "      <td>NaN</td>\n",
       "      <td>NaN</td>\n",
       "      <td>NaN</td>\n",
       "    </tr>\n",
       "    <tr>\n",
       "      <th>3</th>\n",
       "      <td>10001</td>\n",
       "      <td>1942-7-4</td>\n",
       "      <td>2.54</td>\n",
       "      <td>NaN</td>\n",
       "      <td>26.666667</td>\n",
       "      <td>22.222222</td>\n",
       "      <td>24.444444</td>\n",
       "      <td>0</td>\n",
       "      <td>NaN</td>\n",
       "      <td>42</td>\n",
       "      <td>...</td>\n",
       "      <td>NaN</td>\n",
       "      <td>NaN</td>\n",
       "      <td>NaN</td>\n",
       "      <td>NaN</td>\n",
       "      <td>NaN</td>\n",
       "      <td>NaN</td>\n",
       "      <td>NaN</td>\n",
       "      <td>NaN</td>\n",
       "      <td>NaN</td>\n",
       "      <td>NaN</td>\n",
       "    </tr>\n",
       "    <tr>\n",
       "      <th>4</th>\n",
       "      <td>10001</td>\n",
       "      <td>1942-7-5</td>\n",
       "      <td>0</td>\n",
       "      <td>NaN</td>\n",
       "      <td>26.666667</td>\n",
       "      <td>21.666667</td>\n",
       "      <td>24.444444</td>\n",
       "      <td>0</td>\n",
       "      <td>NaN</td>\n",
       "      <td>42</td>\n",
       "      <td>...</td>\n",
       "      <td>NaN</td>\n",
       "      <td>NaN</td>\n",
       "      <td>NaN</td>\n",
       "      <td>NaN</td>\n",
       "      <td>NaN</td>\n",
       "      <td>NaN</td>\n",
       "      <td>NaN</td>\n",
       "      <td>NaN</td>\n",
       "      <td>NaN</td>\n",
       "      <td>NaN</td>\n",
       "    </tr>\n",
       "  </tbody>\n",
       "</table>\n",
       "<p>5 rows × 31 columns</p>\n",
       "</div>"
      ],
      "text/plain": [
       "     STA      Date Precip  WindGustSpd    MaxTemp    MinTemp   MeanTemp  \\\n",
       "0  10001  1942-7-1  1.016          NaN  25.555556  22.222222  23.888889   \n",
       "1  10001  1942-7-2      0          NaN  28.888889  21.666667  25.555556   \n",
       "2  10001  1942-7-3   2.54          NaN  26.111111  22.222222  24.444444   \n",
       "3  10001  1942-7-4   2.54          NaN  26.666667  22.222222  24.444444   \n",
       "4  10001  1942-7-5      0          NaN  26.666667  21.666667  24.444444   \n",
       "\n",
       "  Snowfall PoorWeather  YR  ...  FB  FTI ITH  PGT  TSHDSBRSGF  SD3  RHX  RHN  \\\n",
       "0        0         NaN  42  ... NaN  NaN NaN  NaN         NaN  NaN  NaN  NaN   \n",
       "1        0         NaN  42  ... NaN  NaN NaN  NaN         NaN  NaN  NaN  NaN   \n",
       "2        0         NaN  42  ... NaN  NaN NaN  NaN         NaN  NaN  NaN  NaN   \n",
       "3        0         NaN  42  ... NaN  NaN NaN  NaN         NaN  NaN  NaN  NaN   \n",
       "4        0         NaN  42  ... NaN  NaN NaN  NaN         NaN  NaN  NaN  NaN   \n",
       "\n",
       "  RVG  WTE  \n",
       "0 NaN  NaN  \n",
       "1 NaN  NaN  \n",
       "2 NaN  NaN  \n",
       "3 NaN  NaN  \n",
       "4 NaN  NaN  \n",
       "\n",
       "[5 rows x 31 columns]"
      ]
     },
     "execution_count": 3,
     "metadata": {},
     "output_type": "execute_result"
    }
   ],
   "source": [
    "dff.head()"
   ]
  },
  {
   "cell_type": "code",
   "execution_count": 4,
   "id": "76dae6dc-66dc-4d80-9f30-f3e44cb18f49",
   "metadata": {},
   "outputs": [
    {
     "name": "stdout",
     "output_type": "stream",
     "text": [
      "<class 'pandas.core.frame.DataFrame'>\n",
      "RangeIndex: 119040 entries, 0 to 119039\n",
      "Data columns (total 31 columns):\n",
      " #   Column       Non-Null Count   Dtype  \n",
      "---  ------       --------------   -----  \n",
      " 0   STA          119040 non-null  int64  \n",
      " 1   Date         119040 non-null  object \n",
      " 2   Precip       119040 non-null  object \n",
      " 3   WindGustSpd  532 non-null     float64\n",
      " 4   MaxTemp      119040 non-null  float64\n",
      " 5   MinTemp      119040 non-null  float64\n",
      " 6   MeanTemp     119040 non-null  float64\n",
      " 7   Snowfall     117877 non-null  object \n",
      " 8   PoorWeather  34237 non-null   object \n",
      " 9   YR           119040 non-null  int64  \n",
      " 10  MO           119040 non-null  int64  \n",
      " 11  DA           119040 non-null  int64  \n",
      " 12  PRCP         117108 non-null  object \n",
      " 13  DR           533 non-null     float64\n",
      " 14  SPD          532 non-null     float64\n",
      " 15  MAX          118566 non-null  float64\n",
      " 16  MIN          118572 non-null  float64\n",
      " 17  MEA          118542 non-null  float64\n",
      " 18  SNF          117877 non-null  object \n",
      " 19  SND          5563 non-null    float64\n",
      " 20  FT           0 non-null       float64\n",
      " 21  FB           0 non-null       float64\n",
      " 22  FTI          0 non-null       float64\n",
      " 23  ITH          0 non-null       float64\n",
      " 24  PGT          525 non-null     float64\n",
      " 25  TSHDSBRSGF   34237 non-null   object \n",
      " 26  SD3          0 non-null       float64\n",
      " 27  RHX          0 non-null       float64\n",
      " 28  RHN          0 non-null       float64\n",
      " 29  RVG          0 non-null       float64\n",
      " 30  WTE          0 non-null       float64\n",
      "dtypes: float64(20), int64(4), object(7)\n",
      "memory usage: 28.2+ MB\n"
     ]
    }
   ],
   "source": [
    "dff.info()"
   ]
  },
  {
   "cell_type": "code",
   "execution_count": 5,
   "id": "046c87f5-ea65-4abe-80ff-2a89826e1b3c",
   "metadata": {},
   "outputs": [
    {
     "data": {
      "text/plain": [
       "<AxesSubplot:xlabel='MinTemp'>"
      ]
     },
     "execution_count": 5,
     "metadata": {},
     "output_type": "execute_result"
    },
    {
     "data": {
      "image/png": "[encoded data removed]",
      "text/plain": [
       "<Figure size 640x480 with 1 Axes>"
      ]
     },
     "metadata": {},
     "output_type": "display_data"
    }
   ],
   "source": [
    "dff.plot(x='MinTemp',y='MaxTemp',style='o')"
   ]
  },
  {
   "cell_type": "code",
   "execution_count": 6,
   "id": "ff82a3fb-d30d-4234-90ce-cfbdcb0da1fc",
   "metadata": {},
   "outputs": [],
   "source": [
    "x=dff['MinTemp'].values.reshape(-1,1)\n",
    "y= dff['MaxTemp'].values.reshape(-1,1)"
   ]
  },
  {
   "cell_type": "code",
   "execution_count": 7,
   "id": "4d267e16-c76a-413d-8038-60c76d98f20b",
   "metadata": {},
   "outputs": [
    {
     "data": {
      "text/plain": [
       "array([[22.22222222],\n",
       "       [21.66666667],\n",
       "       [22.22222222],\n",
       "       ...,\n",
       "       [18.33333333],\n",
       "       [18.33333333],\n",
       "       [17.22222222]])"
      ]
     },
     "execution_count": 7,
     "metadata": {},
     "output_type": "execute_result"
    }
   ],
   "source": [
    "x"
   ]
  },
  {
   "cell_type": "code",
   "execution_count": 8,
   "id": "97208c78-b23c-4942-849b-fdc71c26ee52",
   "metadata": {},
   "outputs": [
    {
     "data": {
      "text/plain": [
       "array([[25.55555556],\n",
       "       [28.88888889],\n",
       "       [26.11111111],\n",
       "       ...,\n",
       "       [28.33333333],\n",
       "       [28.33333333],\n",
       "       [29.44444444]])"
      ]
     },
     "execution_count": 8,
     "metadata": {},
     "output_type": "execute_result"
    }
   ],
   "source": [
    "y"
   ]
  },
  {
   "cell_type": "code",
   "execution_count": 9,
   "id": "2fee645c-8a4c-4a13-8718-b47f86854dba",
   "metadata": {},
   "outputs": [],
   "source": [
    "x_train,x_test,y_train , y_test =train_test_split(x,y,test_size=.20)"
   ]
  },
  {
   "cell_type": "code",
   "execution_count": 10,
   "id": "cc34da53-4c44-4aff-aebd-9607f0616e68",
   "metadata": {},
   "outputs": [
    {
     "data": {
      "text/plain": [
       "LinearRegression()"
      ]
     },
     "execution_count": 10,
     "metadata": {},
     "output_type": "execute_result"
    }
   ],
   "source": [
    "module=LinearRegression()\n",
    "module.fit(x_train,y_train)"
   ]
  },
  {
   "cell_type": "code",
   "execution_count": 11,
   "id": "75164c92-2a2b-4be0-bd91-88f180e04f03",
   "metadata": {},
   "outputs": [
    {
     "data": {
      "text/plain": [
       "array([10.68339569])"
      ]
     },
     "execution_count": 11,
     "metadata": {},
     "output_type": "execute_result"
    }
   ],
   "source": [
    "module.intercept_"
   ]
  },
  {
   "cell_type": "code",
   "execution_count": 12,
   "id": "aafb90cd-d1d8-4747-b5ff-118b12904ad5",
   "metadata": {},
   "outputs": [],
   "source": [
    "y_pre=module.predict(x_test)"
   ]
  },
  {
   "cell_type": "code",
   "execution_count": 13,
   "id": "c7d5a1d9-a38f-44bd-91f5-8dd464b1b8a8",
   "metadata": {},
   "outputs": [
    {
     "data": {
      "text/plain": [
       "array([[15.28274209],\n",
       "       [31.12493525],\n",
       "       [31.12493525],\n",
       "       ...,\n",
       "       [26.01455036],\n",
       "       [33.1690892 ],\n",
       "       [31.12493525]])"
      ]
     },
     "execution_count": 13,
     "metadata": {},
     "output_type": "execute_result"
    }
   ],
   "source": [
    "y_pre"
   ]
  },
  {
   "cell_type": "code",
   "execution_count": 14,
   "id": "ab0fb14f-a782-40e5-8c98-307e4a26cfc9",
   "metadata": {},
   "outputs": [],
   "source": [
    "dff2=pd.DataFrame({'actuale':y_test.flatten(),'predection':y_pre.flatten()})"
   ]
  },
  {
   "cell_type": "code",
   "execution_count": 15,
   "id": "07365f49-abd4-43d3-8bcf-8faae699ec95",
   "metadata": {},
   "outputs": [
    {
     "data": {
      "text/html": [
       "<div>\n",
       "<style scoped>\n",
       "    .dataframe tbody tr th:only-of-type {\n",
       "        vertical-align: middle;\n",
       "    }\n",
       "\n",
       "    .dataframe tbody tr th {\n",
       "        vertical-align: top;\n",
       "    }\n",
       "\n",
       "    .dataframe thead th {\n",
       "        text-align: right;\n",
       "    }\n",
       "</style>\n",
       "<table border=\"1\" class=\"dataframe\">\n",
       "  <thead>\n",
       "    <tr style=\"text-align: right;\">\n",
       "      <th></th>\n",
       "      <th>actuale</th>\n",
       "      <th>predection</th>\n",
       "    </tr>\n",
       "  </thead>\n",
       "  <tbody>\n",
       "    <tr>\n",
       "      <th>0</th>\n",
       "      <td>15.000000</td>\n",
       "      <td>15.282742</td>\n",
       "    </tr>\n",
       "    <tr>\n",
       "      <th>1</th>\n",
       "      <td>26.666667</td>\n",
       "      <td>31.124935</td>\n",
       "    </tr>\n",
       "    <tr>\n",
       "      <th>2</th>\n",
       "      <td>27.222222</td>\n",
       "      <td>31.124935</td>\n",
       "    </tr>\n",
       "    <tr>\n",
       "      <th>3</th>\n",
       "      <td>34.444444</td>\n",
       "      <td>24.992473</td>\n",
       "    </tr>\n",
       "    <tr>\n",
       "      <th>4</th>\n",
       "      <td>-8.888889</td>\n",
       "      <td>-4.647759</td>\n",
       "    </tr>\n",
       "    <tr>\n",
       "      <th>...</th>\n",
       "      <td>...</td>\n",
       "      <td>...</td>\n",
       "    </tr>\n",
       "    <tr>\n",
       "      <th>23803</th>\n",
       "      <td>21.666667</td>\n",
       "      <td>18.348973</td>\n",
       "    </tr>\n",
       "    <tr>\n",
       "      <th>23804</th>\n",
       "      <td>35.000000</td>\n",
       "      <td>33.169089</td>\n",
       "    </tr>\n",
       "    <tr>\n",
       "      <th>23805</th>\n",
       "      <td>21.111111</td>\n",
       "      <td>26.014550</td>\n",
       "    </tr>\n",
       "    <tr>\n",
       "      <th>23806</th>\n",
       "      <td>31.111111</td>\n",
       "      <td>33.169089</td>\n",
       "    </tr>\n",
       "    <tr>\n",
       "      <th>23807</th>\n",
       "      <td>31.666667</td>\n",
       "      <td>31.124935</td>\n",
       "    </tr>\n",
       "  </tbody>\n",
       "</table>\n",
       "<p>23808 rows × 2 columns</p>\n",
       "</div>"
      ],
      "text/plain": [
       "         actuale  predection\n",
       "0      15.000000   15.282742\n",
       "1      26.666667   31.124935\n",
       "2      27.222222   31.124935\n",
       "3      34.444444   24.992473\n",
       "4      -8.888889   -4.647759\n",
       "...          ...         ...\n",
       "23803  21.666667   18.348973\n",
       "23804  35.000000   33.169089\n",
       "23805  21.111111   26.014550\n",
       "23806  31.111111   33.169089\n",
       "23807  31.666667   31.124935\n",
       "\n",
       "[23808 rows x 2 columns]"
      ]
     },
     "execution_count": 15,
     "metadata": {},
     "output_type": "execute_result"
    }
   ],
   "source": [
    "dff2"
   ]
  },
  {
   "cell_type": "code",
   "execution_count": 16,
   "id": "62bb3d2a-0a8d-4263-98cf-a3aee22b4164",
   "metadata": {},
   "outputs": [
    {
     "data": {
      "text/plain": [
       "<AxesSubplot:>"
      ]
     },
     "execution_count": 16,
     "metadata": {},
     "output_type": "execute_result"
    },
    {
     "data": {
      "image/png": "[encoded data removed]",
      "text/plain": [
       "<Figure size 2000x1000 with 1 Axes>"
      ]
     },
     "metadata": {},
     "output_type": "display_data"
    }
   ],
   "source": [
    "dff2.head(50).plot(kind='bar',figsize=(20,10))"
   ]
  },
  {
   "cell_type": "code",
   "execution_count": 17,
   "id": "de458666-97b6-4f58-8679-8bfa7e37f19f",
   "metadata": {},
   "outputs": [
    {
     "data": {
      "text/plain": [
       "[<matplotlib.lines.Line2D at 0x20989b46fd0>]"
      ]
     },
     "execution_count": 17,
     "metadata": {},
     "output_type": "execute_result"
    },
    {
     "data": {
      "image/png": "[encoded data removed]",
      "text/plain": [
       "<Figure size 640x480 with 1 Axes>"
      ]
     },
     "metadata": {},
     "output_type": "display_data"
    }
   ],
   "source": [
    "plt.scatter(x_train , y_train)\n",
    "plt.plot(x_train,module.predict(x_train),color='red')"
   ]
  },
  {
   "cell_type": "code",
   "execution_count": null,
   "id": "63f36668-126d-4946-b05b-2716ce971ea7",
   "metadata": {},
   "outputs": [],
   "source": []
  }
 ],
 "metadata": {
  "kernelspec": {
   "display_name": "Python 3 (ipykernel)",
   "language": "python",
   "name": "python3"
  },
  "language_info": {
   "codemirror_mode": {
    "name": "ipython",
    "version": 3
   },
   "file_extension": ".py",
   "mimetype": "text/x-python",
   "name": "python",
   "nbconvert_exporter": "python",
   "pygments_lexer": "ipython3",
   "version": "3.9.13"
  }
 },
 "nbformat": 4,
 "nbformat_minor": 5
}
